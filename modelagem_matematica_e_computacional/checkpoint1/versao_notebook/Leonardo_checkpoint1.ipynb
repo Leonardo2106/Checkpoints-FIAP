{
  "cells": [
    {
      "cell_type": "markdown",
      "metadata": {
        "id": "Nk9kRvWnx_WQ"
      },
      "source": [
        "# Checkpoint #1: Modelagem matemática e Computacional\n",
        "\n",
        "## Dicas gerais:\n",
        "- Consulte os códigos das aulas anteriores e realize as tarefas indicadas.\n",
        "- Caso seja necessário, acrescente mais linhas de código ou de texto para responder as perguntas.\n",
        "- Não se esqueça de acrescentar comentários no seu código para explicar o que você fez"
      ]
    },
    {
      "cell_type": "markdown",
      "metadata": {
        "id": "JqyluJr8yvVE"
      },
      "source": [
        "## Questão 1)\n",
        "\n"
      ]
    },
    {
      "cell_type": "markdown",
      "metadata": {
        "id": "2QUjYsNPV3YN"
      },
      "source": [
        "Definir os parâmetros $a$, $b$, e $c$ de uma parábola do tipo $f(x) = ax^2 + b x + c$ e plotar seu gráfico entre -10 e 10.\n",
        "\n",
        "Escolha $a$, $b$, e $c$ de modo que $\\Delta >0$, isto é, que existam duas soluções reais.\n",
        "\n",
        "\n",
        "Comparar o resultado com o Wolfram alpha: https://www.wolframalpha.com/input?i=f%28x%29+%3D+x%5E2%2Bx-4\n",
        "\n",
        "Ajustar os parâmetros para ficar igual ao seu. Observe que o link traz apenas um exemplo, seus valores de a, b e c devem ser diferentes."
      ]
    },
    {
      "cell_type": "code",
      "execution_count": null,
      "metadata": {
        "id": "rQugp-zQzCX2"
      },
      "outputs": [],
      "source": [
        "import numpy as np\n",
        "import matplotlib.pyplot as plt\n",
        "\n",
        "def Function(a, b, c):\n",
        "    delta = (b * b) - 4 * a * c\n",
        "\n",
        "    if delta <= 0:\n",
        "        print(\"\\nDigite outros valores para que Delta seja maior que 0\\n\")\n",
        "    else:\n",
        "        print(f\"\\nDelta = {delta}\")\n",
        "\n",
        "    x = np.linspace(-10, 10, 100)\n",
        "    y = a * (x * x) + b * x + c\n",
        "\n",
        "    plt.plot(x, y, label=f'f(x) = {a}x² + {b}x + {c}', color='r')\n",
        "    plt.grid()\n",
        "    plt.legend()\n",
        "    plt.title(f\"f(x) = {a}x² + {b}x + {c}\")\n",
        "    plt.xlabel(\"x\")\n",
        "    plt.ylabel(\"y\")\n",
        "    plt.show()\n",
        "\n",
        "numA = int(input(\"Digite o valor de a: \"))\n",
        "numB = int(input(\"Digite o valor de b: \"))\n",
        "numC = int(input(\"Digite o valor de c: \"))\n",
        "\n",
        "Function(numA, numB, numC)"
      ]
    },
    {
      "cell_type": "markdown",
      "metadata": {
        "id": "2pYfpnXP8oPF"
      },
      "source": [
        "Acrescente texto aqui"
      ]
    },
    {
      "cell_type": "markdown",
      "metadata": {
        "id": "ksmcRJ8QzOGi"
      },
      "source": [
        "## Questão 2)\n",
        "\n"
      ]
    },
    {
      "cell_type": "markdown",
      "metadata": {
        "id": "q5W6xb18V5n7"
      },
      "source": [
        "Definir os parâmetros $a$ e $b$ de uma reta do tipo $f(x) = ax + b$. Plotar seu gráfico entre -10 e 10.\n",
        "\n",
        "Comparar o resultado com o Wolfram alpha: https://www.wolframalpha.com/input?i=f%28x%29+%3D+x%2B2\n",
        "\n",
        "Ajustar os parâmetros para ficar igual ao seu. Observe que o link traz apenas um exemplo, seus valores de a e b devem ser diferentes."
      ]
    },
    {
      "cell_type": "code",
      "execution_count": null,
      "metadata": {
        "id": "zDukCnnoz-ns"
      },
      "outputs": [],
      "source": [
        "import numpy as np\n",
        "import matplotlib.pyplot as plt\n",
        "\n",
        "def Function(a, b):\n",
        "    x = np.linspace(-10, 10, 100)\n",
        "    y = a * x + b\n",
        "\n",
        "    plt.plot(x, y, label=f'f(x) = {a}x + {b}', color='r')\n",
        "    plt.grid()\n",
        "    plt.legend()\n",
        "    plt.title(f\"f(x) = {a}x + {b}\")\n",
        "    plt.xlabel(\"x\")\n",
        "    plt.ylabel(\"y\")\n",
        "    plt.show()\n",
        "\n",
        "numA = int(input(\"Digite o valor de a: \"))\n",
        "numB = int(input(\"Digite o valor de b: \"))\n",
        "\n",
        "Function(numA, numB)"
      ]
    },
    {
      "cell_type": "markdown",
      "metadata": {
        "id": "_klg8MAI8r75"
      },
      "source": [
        "Acrescente texto aqui"
      ]
    },
    {
      "cell_type": "markdown",
      "metadata": {
        "id": "7V5D2bWZzE8C"
      },
      "source": [
        "## Questão 3)\n"
      ]
    },
    {
      "cell_type": "markdown",
      "metadata": {
        "id": "UXtTMI0AWAfy"
      },
      "source": [
        "Sobre a parábola da questão 1 e a reta da questão 2, plote plote o gráfico das duas juntas. Verifique se a reta passa pela parábola. Em caso negativo, mude os parâmetros para que isso aconteça.\n",
        "\n",
        "Onde elas se encontram? Indique os valores numéricos aproximados\n",
        "\n",
        "Compare seu resultado com o Wolfram Alpha: https://www.wolframalpha.com/input?i=x%2B2+%3D+x%5E2%2Bx-4\n",
        "Para isso, ajuste os parâmetros no Wolfram Alpha para que fiquem iguais aos que você escolheu."
      ]
    },
    {
      "cell_type": "code",
      "execution_count": null,
      "metadata": {
        "id": "hhP5nIfA6Su1"
      },
      "outputs": [],
      "source": [
        "import numpy as np\n",
        "import matplotlib.pyplot as plt\n",
        "\n",
        "def Function(a, b, c, a1, b1):\n",
        "    delta = (b * b) - 4 * a * c\n",
        "\n",
        "    if delta <= 0:\n",
        "        print(\"\\nDigite outros valores para que Delta seja maior que 0\\n\")\n",
        "    else:\n",
        "        print(f\"\\nDelta = {delta}\")\n",
        "\n",
        "    x = np.linspace(-10, 10, 100)\n",
        "    y = a * (x * x) + b * x + c\n",
        "\n",
        "    x1 = np.linspace(-10, 10, 100)\n",
        "    y1 = a1 * x + b1\n",
        "\n",
        "    plt.plot(x, y, label = f'f(x) = {a}x² + {b}x + {c}', color = \"r\")\n",
        "    plt.plot(x1, y1, label = f\"f(x) = {a1}x + {b1}\", color = \"b\")\n",
        "    plt.grid()\n",
        "    plt.legend()\n",
        "    plt.title(f\"f(x) = {a}x² + {b}x + {c}\\nf(x) = {a1}x + {b1}\")\n",
        "    plt.xlabel(\"x\")\n",
        "    plt.ylabel(\"y\")\n",
        "    plt.show()\n",
        "\n",
        "numA = int(input(\"Digite o valor de a: \"))\n",
        "numB = int(input(\"Digite o valor de b: \"))\n",
        "numC = int(input(\"Digite o valor de c: \"))\n",
        "\n",
        "numA1 = int(input(\"Digite o valor de a1: \"))\n",
        "numB1 = int(input(\"Digite o valor de b1: \"))\n",
        "\n",
        "Function(numA, numB, numC, numA1, numB1)"
      ]
    },
    {
      "cell_type": "markdown",
      "metadata": {
        "id": "-dYQWoqS8tWH"
      },
      "source": [
        "Acrescente texto aqui"
      ]
    },
    {
      "cell_type": "markdown",
      "metadata": {
        "id": "2sPjtaeY6_Vu"
      },
      "source": [
        "## Questão 4)\n",
        "\n",
        "\n",
        "\n"
      ]
    },
    {
      "cell_type": "markdown",
      "metadata": {
        "id": "_672ayCV8ejt"
      },
      "source": [
        "No link do wolfram da questão 3), observe que: De um lado da equação há uma parábola e de outro há uma reta. Quando pedimos essa igualdade no wolfram, o resultado da conta nos retorna os pontos onde a reta encontra a parábola.\n",
        "\n",
        "De modo equivalente, podemos passar todos os termos da reta para o lado da parabola, deixando um lado da equação igual a zero. É como se a gente tivesse juntando os dois gráficos em todos os pontos.\n",
        "\n",
        "Por exemplo, vamos deixar o lado direito da equação igual a zero:\n",
        "\n",
        "$x^2 + 3x = x+3$ se tornaria $x^2 + 2x -3 = 0$.\n",
        "\n",
        "Lembre-se: termos de mesmo grau do polinômio podem se somar ou subtrair.\n",
        "\n"
      ]
    },
    {
      "cell_type": "markdown",
      "metadata": {
        "id": "oyDfkooZWOL0"
      },
      "source": [
        "\n",
        "Agora junte os termos da sua parábola com a sua reta do mesmo lado da equação, deixando um dos lados da equação igual a zero.\n",
        "\n",
        "a) Qual foi a equação resultante?\n",
        "\n",
        "b) Plote essa nova equação no mesmo intervalo anterior. Para quais valores de x a função y = f(x) é igual a zero? Compare esse novo resultado com o resultado da questão 3. O que você observa?"
      ]
    },
    {
      "cell_type": "code",
      "execution_count": null,
      "metadata": {
        "id": "OgRcxR3W6-5n"
      },
      "outputs": [],
      "source": [
        "import numpy as np\n",
        "import matplotlib.pyplot as plt\n",
        "\n",
        "def Funcao(x):\n",
        "    return (x * x) - 6\n",
        "\n",
        "x = np.linspace(-10, 10, 100)\n",
        "y = Funcao(x)\n",
        "\n",
        "plt.figure(figsize=(8, 6))\n",
        "plt.plot(x, y, label=\"f(x) = x^2 - 6\", color = \"b\")\n",
        "\n",
        "zero1 = np.sqrt(6)\n",
        "zero2 = -np.sqrt(6)\n",
        "plt.plot([zero1, zero2], [0, 0], \"ro\", label=\"Zeros (x = ±√6)\")\n",
        "\n",
        "plt.xlabel(\"x\")\n",
        "plt.ylabel(\"y\")\n",
        "plt.title(\"f(x) = x^2 - 6\")\n",
        "plt.legend()\n",
        "plt.grid()\n",
        "plt.show()\n"
      ]
    },
    {
      "cell_type": "markdown",
      "metadata": {
        "id": "FbKFweiq8vtZ"
      },
      "source": [
        "#### a)\n",
        "A equação ao juntar os termos é: $x^2 - 6 = 0$\n",
        "\n",
        "#### b)\n",
        "Ao plotar $f(x) = x^2 = 6$ no mesmo intervalo, é possível notar que $f(x)$ é igual a zero para $x = \\sqrt6 e x = -\\sqrt6$. Ambos os valores se encontram na reta e na parabola, o que confirma a resolução no exercício 3."
      ]
    }
  ],
  "metadata": {
    "colab": {
      "collapsed_sections": [
        "JqyluJr8yvVE",
        "ksmcRJ8QzOGi",
        "7V5D2bWZzE8C",
        "2sPjtaeY6_Vu"
      ],
      "provenance": []
    },
    "kernelspec": {
      "display_name": "Python 3",
      "name": "python3"
    },
    "language_info": {
      "codemirror_mode": {
        "name": "ipython",
        "version": 3
      },
      "file_extension": ".py",
      "mimetype": "text/x-python",
      "name": "python",
      "nbconvert_exporter": "python",
      "pygments_lexer": "ipython3",
      "version": "3.13.2"
    }
  },
  "nbformat": 4,
  "nbformat_minor": 0
}
